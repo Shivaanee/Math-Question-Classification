{
 "cells": [
  {
   "cell_type": "markdown",
   "metadata": {},
   "source": [
    "# Data Extraction - from PDF/LaTeX files"
   ]
  },
  {
   "cell_type": "code",
   "execution_count": 4,
   "metadata": {},
   "outputs": [],
   "source": [
    "import pandas as pd\n",
    "import numpy as np\n",
    "import regex as re"
   ]
  },
  {
   "cell_type": "code",
   "execution_count": 29,
   "metadata": {},
   "outputs": [
    {
     "data": {
      "text/plain": [
       "['\\n',\n",
       " '\\n',\n",
       " '#### Bilinear Forms\\n',\n",
       " '\\n',\n",
       " 'The reader should find it easy to verify that the matrix of \\\\(f\\\\) in the latter ordered basis has the block form\\n',\n",
       " '\\n',\n",
       " '\\\\[\\\\left[\\\\begin{array}{cc}0&J\\\\\\\\ -J&0\\\\end{array}\\\\right]\\\\]\\n',\n",
       " '\\n',\n",
       " 'where \\\\(J\\\\) is the \\\\(k\\\\bigtimes k\\\\) matrix\\n',\n",
       " '\\n',\n",
       " '\\\\[\\\\left[\\\\begin{array}{cccc}0&\\\\cdots&0&1\\\\\\\\ 0&\\\\cdots&1&0\\\\\\\\ \\\\vdots&\\\\cdots&\\\\vdots&\\\\vdots\\\\\\\\ 1&\\\\cdots&0&0\\\\end{array}\\\\right].\\\\]\\n',\n",
       " '\\n',\n",
       " '#### Exercises\\n',\n",
       " '\\n',\n",
       " '1. Let \\\\(V\\\\) be a vector space over a field \\\\(F\\\\). Show that the set of all skew-symmetric bilinear forms on \\\\(V\\\\) is a subspace of \\\\(L(V,\\\\,V,\\\\,F)\\\\).\\n',\n",
       " '2. Find all skew-symmetric bilinear forms on \\\\(R^{3}\\\\).\\n',\n",
       " '3. Find a basis for the space of all skew-symmetric bilinear forms on \\\\(R^{n}\\\\).\\n',\n",
       " '4. Let \\\\(f\\\\) be a symmetric bilinear form on \\\\(C^{n}\\\\) and \\\\(g\\\\) a skew-symmetric bilinear form on \\\\(C^{n}\\\\). Suppose \\\\(f+g=0\\\\). Show that \\\\(f=g=0\\\\).\\n',\n",
       " '5. Let \\\\(V\\\\) be an \\\\(n\\\\)-dimensional vector space over a subfield \\\\(F\\\\) of \\\\(C\\\\). Prove the following. 1. The equation \\\\((P\\\\!f)(\\\\alpha,\\\\beta)=\\\\frac{1}{2}f(\\\\alpha,\\\\beta)-\\\\frac{1}{2}f(\\\\beta,\\\\alpha)\\\\) defines a linear operator \\\\(P\\\\) on \\\\(L(V,\\\\,V,\\\\,F)\\\\). 2. \\\\(P^{\\\\intercal}=P_{i}\\\\), i.e., \\\\(P\\\\) is a projection. 3. rank \\\\(P=\\\\frac{n(n-1)}{2}\\\\); nullity \\\\(P=\\\\frac{n(n+1)}{2}\\\\). 4. If \\\\(U\\\\) is a linear operator on \\\\(V\\\\), the equation \\\\((U\\\\!f)(\\\\alpha,\\\\beta)=f(U\\\\alpha,\\\\,U\\\\beta)\\\\) defines a linear operator \\\\(U\\\\!t\\\\) on \\\\(L(V,\\\\,V,\\\\,F)\\\\). 5. For every linear operator \\\\(U\\\\), the projection \\\\(P\\\\) commutes with \\\\(U^{\\\\intercal}\\\\).\\n',\n",
       " '6. Prove an analogue of Exercise 11 in Section 10.2 for non-degenerate, skew-symmetric bilinear forms.\\n',\n",
       " '7. Let \\\\(f\\\\) be a bilinear form on a vector space \\\\(V\\\\). Let \\\\(L_{f}\\\\) and \\\\(R_{f}\\\\) be the mappings of \\\\(V\\\\) into \\\\(V^{*}\\\\) associated with \\\\(f\\\\) in Section 10.1. Prove that \\\\(f\\\\) is skew-symmetric if and only if \\\\(L_{f}=-R_{f}\\\\).\\n',\n",
       " '8. Prove an analogue of Exercise 17 in Section 10.2 for skew-symmetric forms.\\n',\n",
       " '9. Let \\\\(V\\\\) be a finite-dimensional vector space and \\\\(L_{1}\\\\), \\\\(L_{2}\\\\) linear functionals on \\\\(V\\\\). Show that the equation \\\\[f(\\\\alpha,\\\\,\\\\beta)=L_{1}(\\\\alpha)L_{2}(\\\\beta)=L_{1}(\\\\beta)L_{2}(\\\\alpha)\\\\] defines a skew-symmetric bilinear form on \\\\(V\\\\). Show that \\\\(f=0\\\\) if and only if \\\\(L_{1}\\\\), \\\\(L_{2}\\\\) are linearly dependent.\\n',\n",
       " '10. Let \\\\(V\\\\) be a finite-dimensional vector space over a subfield of the complex numbers and \\\\(f\\\\) a skew-symmetric bilinear form on \\\\(V\\\\). Show that \\\\(f\\\\) has rank \\\\(2\\\\) if']"
      ]
     },
     "execution_count": 29,
     "metadata": {},
     "output_type": "execute_result"
    }
   ],
   "source": [
    "with open('data/Book3-latex/page_387.tex') as f:\n",
    "    lines = f.readlines()\n",
    "lines"
   ]
  },
  {
   "cell_type": "code",
   "execution_count": 64,
   "metadata": {},
   "outputs": [
    {
     "data": {
      "text/plain": [
       "'### Exercises\\n'"
      ]
     },
     "execution_count": 64,
     "metadata": {},
     "output_type": "execute_result"
    }
   ],
   "source": [
    "lines[14]"
   ]
  },
  {
   "cell_type": "code",
   "execution_count": 71,
   "metadata": {},
   "outputs": [
    {
     "data": {
      "text/plain": [
       "<regex.Match object; span=(0, 14), match='### Exercises\\n'>"
      ]
     },
     "execution_count": 71,
     "metadata": {},
     "output_type": "execute_result"
    }
   ],
   "source": [
    "re.match(r'.*Exercises\\n', lines[14])"
   ]
  },
  {
   "cell_type": "code",
   "execution_count": 30,
   "metadata": {},
   "outputs": [
    {
     "data": {
      "text/plain": [
       "['\\n',\n",
       " '1. Let \\\\(V\\\\) be a vector space over a field \\\\(F\\\\). Show that the set of all skew-symmetric bilinear forms on \\\\(V\\\\) is a subspace of \\\\(L(V,\\\\,V,\\\\,F)\\\\).\\n',\n",
       " '2. Find all skew-symmetric bilinear forms on \\\\(R^{3}\\\\).\\n',\n",
       " '3. Find a basis for the space of all skew-symmetric bilinear forms on \\\\(R^{n}\\\\).\\n',\n",
       " '4. Let \\\\(f\\\\) be a symmetric bilinear form on \\\\(C^{n}\\\\) and \\\\(g\\\\) a skew-symmetric bilinear form on \\\\(C^{n}\\\\). Suppose \\\\(f+g=0\\\\). Show that \\\\(f=g=0\\\\).\\n',\n",
       " '5. Let \\\\(V\\\\) be an \\\\(n\\\\)-dimensional vector space over a subfield \\\\(F\\\\) of \\\\(C\\\\). Prove the following. 1. The equation \\\\((P\\\\!f)(\\\\alpha,\\\\beta)=\\\\frac{1}{2}f(\\\\alpha,\\\\beta)-\\\\frac{1}{2}f(\\\\beta,\\\\alpha)\\\\) defines a linear operator \\\\(P\\\\) on \\\\(L(V,\\\\,V,\\\\,F)\\\\). 2. \\\\(P^{\\\\intercal}=P_{i}\\\\), i.e., \\\\(P\\\\) is a projection. 3. rank \\\\(P=\\\\frac{n(n-1)}{2}\\\\); nullity \\\\(P=\\\\frac{n(n+1)}{2}\\\\). 4. If \\\\(U\\\\) is a linear operator on \\\\(V\\\\), the equation \\\\((U\\\\!f)(\\\\alpha,\\\\beta)=f(U\\\\alpha,\\\\,U\\\\beta)\\\\) defines a linear operator \\\\(U\\\\!t\\\\) on \\\\(L(V,\\\\,V,\\\\,F)\\\\). 5. For every linear operator \\\\(U\\\\), the projection \\\\(P\\\\) commutes with \\\\(U^{\\\\intercal}\\\\).\\n',\n",
       " '6. Prove an analogue of Exercise 11 in Section 10.2 for non-degenerate, skew-symmetric bilinear forms.\\n',\n",
       " '7. Let \\\\(f\\\\) be a bilinear form on a vector space \\\\(V\\\\). Let \\\\(L_{f}\\\\) and \\\\(R_{f}\\\\) be the mappings of \\\\(V\\\\) into \\\\(V^{*}\\\\) associated with \\\\(f\\\\) in Section 10.1. Prove that \\\\(f\\\\) is skew-symmetric if and only if \\\\(L_{f}=-R_{f}\\\\).\\n',\n",
       " '8. Prove an analogue of Exercise 17 in Section 10.2 for skew-symmetric forms.\\n',\n",
       " '9. Let \\\\(V\\\\) be a finite-dimensional vector space and \\\\(L_{1}\\\\), \\\\(L_{2}\\\\) linear functionals on \\\\(V\\\\). Show that the equation \\\\[f(\\\\alpha,\\\\,\\\\beta)=L_{1}(\\\\alpha)L_{2}(\\\\beta)=L_{1}(\\\\beta)L_{2}(\\\\alpha)\\\\] defines a skew-symmetric bilinear form on \\\\(V\\\\). Show that \\\\(f=0\\\\) if and only if \\\\(L_{1}\\\\), \\\\(L_{2}\\\\) are linearly dependent.\\n',\n",
       " '10. Let \\\\(V\\\\) be a finite-dimensional vector space over a subfield of the complex numbers and \\\\(f\\\\) a skew-symmetric bilinear form on \\\\(V\\\\). Show that \\\\(f\\\\) has rank \\\\(2\\\\) if']"
      ]
     },
     "execution_count": 30,
     "metadata": {},
     "output_type": "execute_result"
    }
   ],
   "source": [
    "# find all the questions\n",
    "\n",
    "questions = []\n",
    "for i in range(len(lines)):\n",
    "    if re.match(r'.+\\**Exercises\\**\\n', lines[i]):\n",
    "        j = i + 1\n",
    "        question = \"\"\n",
    "        while j < len(lines) and not re.match(r'\\d+\\.\\d.+', lines[j]):\n",
    "            if re.match(r'^\\d+\\.\\s.+', lines[j]) or re.match(r'^\\*\\*\\d+\\.\\*\\*\\s.+', lines[j]):\n",
    "                questions.append(question)\n",
    "                question = \"\"\n",
    "            question += lines[j]\n",
    "            j += 1\n",
    "        questions.append(question)\n",
    "        break\n",
    "    \n",
    "# remove all the empty strings from the list\n",
    "questions = list(filter(None, questions))\n",
    "questions"
   ]
  },
  {
   "cell_type": "code",
   "execution_count": 31,
   "metadata": {},
   "outputs": [
    {
     "data": {
      "text/plain": [
       "['\\n',\n",
       " 'Let \\\\(V\\\\) be a vector space over a field \\\\(F\\\\). Show that the set of all skew-symmetric bilinear forms on \\\\(V\\\\) is a subspace of \\\\(L(V,\\\\,V,\\\\,F)\\\\).\\n',\n",
       " 'Find all skew-symmetric bilinear forms on \\\\(R^{3}\\\\).\\n',\n",
       " 'Find a basis for the space of all skew-symmetric bilinear forms on \\\\(R^{n}\\\\).\\n',\n",
       " 'Let \\\\(f\\\\) be a symmetric bilinear form on \\\\(C^{n}\\\\) and \\\\(g\\\\) a skew-symmetric bilinear form on \\\\(C^{n}\\\\). Suppose \\\\(f+g=0\\\\). Show that \\\\(f=g=0\\\\).\\n',\n",
       " 'Let \\\\(V\\\\) be an \\\\(n\\\\)-dimensional vector space over a subfield \\\\(F\\\\) of \\\\(C\\\\). Prove the following. 1. The equation \\\\((P\\\\!f)(\\\\alpha,\\\\beta)=\\\\frac{1}{2}f(\\\\alpha,\\\\beta)-\\\\frac{1}{2}f(\\\\beta,\\\\alpha)\\\\) defines a linear operator \\\\(P\\\\) on \\\\(L(V,\\\\,V,\\\\,F)\\\\). 2. \\\\(P^{\\\\intercal}=P_{i}\\\\), i.e., \\\\(P\\\\) is a projection. 3. rank \\\\(P=\\\\frac{n(n-1)}{2}\\\\); nullity \\\\(P=\\\\frac{n(n+1)}{2}\\\\). 4. If \\\\(U\\\\) is a linear operator on \\\\(V\\\\), the equation \\\\((U\\\\!f)(\\\\alpha,\\\\beta)=f(U\\\\alpha,\\\\,U\\\\beta)\\\\) defines a linear operator \\\\(U\\\\!t\\\\) on \\\\(L(V,\\\\,V,\\\\,F)\\\\). 5. For every linear operator \\\\(U\\\\), the projection \\\\(P\\\\) commutes with \\\\(U^{\\\\intercal}\\\\).\\n',\n",
       " 'Prove an analogue of Exercise 11 in Section 10.2 for non-degenerate, skew-symmetric bilinear forms.\\n',\n",
       " 'Let \\\\(f\\\\) be a bilinear form on a vector space \\\\(V\\\\). Let \\\\(L_{f}\\\\) and \\\\(R_{f}\\\\) be the mappings of \\\\(V\\\\) into \\\\(V^{*}\\\\) associated with \\\\(f\\\\) in Section 10.1. Prove that \\\\(f\\\\) is skew-symmetric if and only if \\\\(L_{f}=-R_{f}\\\\).\\n',\n",
       " 'Prove an analogue of Exercise 17 in Section 10.2 for skew-symmetric forms.\\n',\n",
       " 'Let \\\\(V\\\\) be a finite-dimensional vector space and \\\\(L_{1}\\\\), \\\\(L_{2}\\\\) linear functionals on \\\\(V\\\\). Show that the equation \\\\[f(\\\\alpha,\\\\,\\\\beta)=L_{1}(\\\\alpha)L_{2}(\\\\beta)=L_{1}(\\\\beta)L_{2}(\\\\alpha)\\\\] defines a skew-symmetric bilinear form on \\\\(V\\\\). Show that \\\\(f=0\\\\) if and only if \\\\(L_{1}\\\\), \\\\(L_{2}\\\\) are linearly dependent.\\n',\n",
       " 'Let \\\\(V\\\\) be a finite-dimensional vector space over a subfield of the complex numbers and \\\\(f\\\\) a skew-symmetric bilinear form on \\\\(V\\\\). Show that \\\\(f\\\\) has rank \\\\(2\\\\) if']"
      ]
     },
     "execution_count": 31,
     "metadata": {},
     "output_type": "execute_result"
    }
   ],
   "source": [
    "extract_questions(range(387,389))"
   ]
  },
  {
   "cell_type": "markdown",
   "metadata": {},
   "source": [
    "## This could be done while reading the file as well.\n",
    "\n",
    "To avoid storing huuuge amounts of data in a list"
   ]
  },
  {
   "cell_type": "code",
   "execution_count": 4,
   "metadata": {},
   "outputs": [
    {
     "data": {
      "text/plain": [
       "['1. Verify that the set of complex numbers described in Example 4 is a subfield of $C$.\\n',\n",
       " '2. Let $F$ be the field of complex numbers. Are the following two systems of linear equations equivalent? If so, express each equation in each system as a linear combination of the equations in the other system.\\n$$\\n\\\\begin{array}{rlrl}\\nx_1-x_2 & =0 & 3 x_1+x_2 & =0 \\\\\\\\\\n2 x_1+x_2 & =0 & x_1+x_2 & =0\\n\\\\end{array}\\n$$\\n',\n",
       " '3. Test the following systems of equations as in Exercise 2.\\n$$\\n\\\\begin{aligned}\\n-x_1+x_2+4 x_3 & =0 & x_1 & -x_3=0 \\\\\\\\\\nx_1+3 x_2+8 x_3 & =0 & & x_2+3 x_3=0 \\\\\\\\\\n{ }_2^1 x_1+x_2+\\\\frac{5}{2} x_3 & =0 & &\\n\\\\end{aligned}\\n$$\\n',\n",
       " '4. Test the following systems as in Exercise 2.\\n$$\\n\\\\begin{array}{rlr}\\n2 x_1+(-1+i) x_2+x_4 & =0 & \\\\left(1+\\\\frac{i}{2}\\\\right) x_1+8 x_2-i x_3-x_4=0 \\\\\\\\\\n3 x_2-2 i x_3+5 x_4 & =0 & \\\\frac{2}{3} x_1-\\\\frac{1}{2} x_2+x_3+7 x_4=0\\n\\\\end{array}\\n$$\\n',\n",
       " '5. Let $F$ be a set which contains exactly two elements, 0 and 1 . Define an addition and multiplication by the tables:\\n\\\\begin{tabular}{c|ccc|cc}\\n+ & 0 & 1 \\\\\\\\\\n\\\\hline 0 & 0 & 1 \\\\\\\\\\n1 & 1 & 0 &. & 0 & 1 \\\\\\\\\\n\\\\hline 0 & 0 & 0 \\\\\\\\\\n1 & 0 & 1\\n\\\\end{tabular}\\n\\nVerify that the set $F$, together with these two operations, is a field.\\n',\n",
       " '6. Prove that if two homogeneous systems of linear equations in two unknowns have the same solutions, then they are equivalent.\\n',\n",
       " '7. Prove that each subfield of the field of complex numbers contains every rational number.\\n',\n",
       " '8. Prove that each field of characteristic zero contains a copy of the rational number field.\\n']"
      ]
     },
     "execution_count": 4,
     "metadata": {},
     "output_type": "execute_result"
    }
   ],
   "source": [
    "questions = []\n",
    "\n",
    "with open('data/book3/page_14.tex') as f:\n",
    "    line = f.readline()\n",
    "    while line:\n",
    "        if line == 'Exercises\\n':\n",
    "            line = f.readline()\n",
    "            question = \"\"\n",
    "            while line and not re.match(r'\\d+\\.\\d.+', line):\n",
    "                if re.match(r'^\\d+\\.\\s.+', line):\n",
    "                    questions.append(question)\n",
    "                    question = \"\"\n",
    "                question += line\n",
    "                line = f.readline()\n",
    "            questions.append(question)\n",
    "        line = f.readline()\n",
    "\n",
    "questions = list(filter(None, questions))\n",
    "questions"
   ]
  },
  {
   "cell_type": "markdown",
   "metadata": {},
   "source": [
    "# Now, let's do the same for the entire Book 3"
   ]
  },
  {
   "cell_type": "markdown",
   "metadata": {},
   "source": [
    "### The topics covered:\n",
    "\n",
    "- Linear Equations\n",
    "\n",
    "- Vector Spaces\n",
    "\n",
    "- Linear Transformations\n",
    "\n",
    "- Polynomials\n",
    "\n",
    "- Determinants\n",
    "\n",
    "- Elementary Canonical Forms\n",
    "\n",
    "- The Rational and Jordan Forms\n",
    "\n",
    "- Inner Product Spaces\n",
    "\n",
    "- Operators on Inner Product Spaces\n",
    "\n",
    "- Bilinear Forms"
   ]
  },
  {
   "cell_type": "code",
   "execution_count": 5,
   "metadata": {},
   "outputs": [],
   "source": [
    "topics = ['Linear Equations', 'Vector Spaces', 'Linear Transformations', 'Polynomials', 'Determinants', 'Elementary Canonical Forms', 'The Rational and Jordan Forms', 'Inner Product Spaces', 'Operators on Inner Product Spaces', 'Bilinear Forms']"
   ]
  },
  {
   "cell_type": "code",
   "execution_count": 6,
   "metadata": {},
   "outputs": [
    {
     "data": {
      "text/plain": [
       "['\\n',\n",
       " '\\n',\n",
       " '### 3 Matrices and Elementary\\n',\n",
       " '\\n',\n",
       " '_Row Operations_\\n',\n",
       " '\\n',\n",
       " \"One cannot fail to notice that in forming linear combinations of linear equations there is no need to continue writing the 'unknowns' \\\\(x_{i}\\\\), \\\\(\\\\ldots\\\\), \\\\(x_{n}\\\\), since one actually computes only with the coefficients \\\\(A_{ij}\\\\) and the scalars \\\\(y_{i}\\\\). We shall now abbreviate the system (1-1) by\\n\",\n",
       " '\\n',\n",
       " '\\\\[AX=Y\\\\]\\n',\n",
       " '\\n',\n",
       " 'where\\n',\n",
       " '\\n',\n",
       " '\\\\[A=\\\\begin{bmatrix}A_{11}&\\\\cdots&A_{1n}\\\\\\\\ \\\\vdots&&\\\\vdots\\\\\\\\ A_{m1}&\\\\cdots&A_{mn}\\\\end{bmatrix}\\\\]\\n',\n",
       " '\\n',\n",
       " '\\\\[X=\\\\begin{bmatrix}x_{1}\\\\\\\\ \\\\vdots\\\\\\\\ x_{n}\\\\end{bmatrix}\\\\quad\\\\text{and}\\\\quad Y=\\\\begin{bmatrix}y_{1}\\\\\\\\ \\\\vdots\\\\\\\\ y_{m}\\\\end{bmatrix}.\\\\]\\n',\n",
       " '\\n',\n",
       " 'We call \\\\(A\\\\) the **matrix of coefficients** of the system. Strictly speaking, the rectangular array displayed above is not a matrix, but is a representation of a matrix. An \\\\(m\\\\times n\\\\)**matrix over the field \\\\(F\\\\)** is a function \\\\(A\\\\) from the set of pairs of integers \\\\((i,j)\\\\), \\\\(1\\\\leq i\\\\leq m\\\\), \\\\(1\\\\leq j\\\\leq n\\\\), into the field \\\\(F\\\\). The **entries** of the matrix \\\\(A\\\\) are the scalars \\\\(A(i,j)=A_{ij}\\\\), and quite often it is most convenient to describe the matrix by displaying its entries in a rectangular array having \\\\(m\\\\) rows and \\\\(n\\\\) columns, as above. Thus \\\\(X\\\\) (above) is, or defines, an \\\\(n\\\\times 1\\\\) matrix and \\\\(Y\\\\) is an \\\\(m\\\\times 1\\\\) matrix. For the time being, \\\\(AX=Y\\\\) is nothing more than a shorthand notation for our system of linear equations. Later, when we have defined a multiplication for matrices, it will mean that \\\\(Y\\\\) is the product of \\\\(A\\\\) and \\\\(X\\\\).\\n',\n",
       " '\\n',\n",
       " 'We wish now to consider operations on the rows of the matrix \\\\(A\\\\) which correspond to forming linear combinations of the equations in the system \\\\(AX=Y\\\\). We restrict our attention to three **elementary row operations** on an \\\\(m\\\\times n\\\\) matrix \\\\(A\\\\) over the field \\\\(F\\\\):\\n',\n",
       " '\\n',\n",
       " '1. multiplication of one row of \\\\(A\\\\) by a non-zero scalar \\\\(c\\\\);\\n',\n",
       " '2. replacement of the \\\\(r\\\\)th row of \\\\(A\\\\) by row \\\\(r\\\\) plus \\\\(c\\\\) times row \\\\(s\\\\), \\\\(c\\\\) any scalar and \\\\(r\\\\neq s\\\\);\\n',\n",
       " '3. interchange of two rows of \\\\(A\\\\).\\n',\n",
       " '\\n',\n",
       " 'An elementary row operation is thus a special type of function (rule) \\\\(e\\\\) which associated with each \\\\(m\\\\times n\\\\) matrix \\\\(A\\\\) an \\\\(m\\\\times n\\\\) matrix \\\\(e(A)\\\\). One can precisely describe \\\\(e\\\\) in the three cases as follows:\\n',\n",
       " '\\n',\n",
       " '1. \\\\(e(A)_{ij}=A_{ij}\\\\) if \\\\(i\\\\neq r\\\\), \\\\(e(A)_{rj}=cA_{rj}\\\\).\\n',\n",
       " '2. \\\\(e(A)_{ij}=A_{ij}\\\\) if \\\\(i\\\\neq r\\\\), \\\\(e(A)_{rj}=A_{rj}+cA_{']"
      ]
     },
     "execution_count": 6,
     "metadata": {},
     "output_type": "execute_result"
    }
   ],
   "source": [
    "with open('data/Book3-latex/page_15.tex') as f:\n",
    "    lines = f.readlines()\n",
    "lines"
   ]
  },
  {
   "cell_type": "code",
   "execution_count": 7,
   "metadata": {},
   "outputs": [
    {
     "data": {
      "text/plain": [
       "['\\n',\n",
       " '\\n',\n",
       " '## Chapter 2 Vector Spaces\\n',\n",
       " '\\n',\n",
       " '### 2.1 Vector Spaces\\n',\n",
       " '\\n',\n",
       " \"In various parts of mathematics, one is confronted with a set, such that it is both meaningful and interesting to deal with 'linear combinations' of the objects in that set. For example, in our study of linear equations we found it quite natural to consider linear combinations of the rows of a matrix. It is likely that the reader has studied calculus and has dealt there with linear combinations of functions; certainly this is so if he has studied differential equations. Perhaps the reader has had some experience with vectors in three-dimensional Euclidean space, and in particular, with linear combinations of such vectors.\\n\",\n",
       " '\\n',\n",
       " \"Loosely speaking, linear alcgbra is that branch of mathematics which treats the common properties of algebraic systems which consist of a set, together with a reasonable notion of a 'linear combination' of elements in the set. In this section we shall define the mathematical object which experience has shown to be the most useful abstraction of this type of algebraic system.\\n\",\n",
       " '\\n',\n",
       " '_Definition_.: _A vector space \\\\((\\\\)or linear space\\\\()\\\\) consists of the following:_\\n',\n",
       " '\\n',\n",
       " '1. _a field_ F _of scalars;_\\n',\n",
       " '2. _a set_ V _of objects, called vectors;_\\n',\n",
       " '3. _a rule \\\\((\\\\)or operation\\\\()\\\\), called vector addition, which associates with each pair of vectors \\\\(\\\\alpha\\\\), \\\\(\\\\beta\\\\) in_ V _a vector \\\\(\\\\alpha\\\\)_+_\\\\(\\\\beta\\\\)_in V, called the sum of \\\\(\\\\alpha\\\\)_and \\\\(\\\\beta\\\\), in such a way that_ 1. _addition is commutative,_ \\\\(\\\\alpha\\\\)_+_\\\\(\\\\beta\\\\)_=_\\\\(\\\\beta\\\\)_+_\\\\(\\\\alpha\\\\)_;_ 2. _addition is associative,_ \\\\(\\\\alpha\\\\)_+_\\\\((\\\\beta+\\\\gamma)\\\\)_=_\\\\((\\\\alpha+\\\\beta)+\\\\gamma\\\\)']"
      ]
     },
     "execution_count": 7,
     "metadata": {},
     "output_type": "execute_result"
    }
   ],
   "source": [
    "with open('data/Book3-latex/page_37.tex') as f:\n",
    "    lines = f.readlines()\n",
    "lines"
   ]
  },
  {
   "cell_type": "code",
   "execution_count": 17,
   "metadata": {},
   "outputs": [],
   "source": [
    "def extract_questions(pageNos):\n",
    "    questions = []\n",
    "    for pageNo in pageNos:\n",
    "        with open(f'data/Book3-latex/page_{pageNo}.tex') as f:\n",
    "            line = f.readline()\n",
    "            while line:\n",
    "                if re.match(r'.+\\**Exercises\\**\\n', line):\n",
    "                    line = f.readline()\n",
    "                    question = \"\"\n",
    "                    while line and re.match(r'^#.+', line) == None: # TODO add condition for when question rolls over to the next page\n",
    "                        if re.match(r'^\\d+\\.\\s.+', line) or re.match(r'^\\*\\*\\d+\\.\\*\\*\\s.+', line):\n",
    "                            questions.append(question)\n",
    "                            question = \"\"\n",
    "                        question += line\n",
    "                        line = f.readline()\n",
    "                    questions.append(question)\n",
    "                line = f.readline()\n",
    "    questions = list(filter(None, questions))\n",
    "    # remove questions that are just new line characters\n",
    "    questions = [question for question in questions if question != '\\n']\n",
    "    # replace all new line characters in each question qith a space\n",
    "    questions = [re.sub(r'\\n', ' ', question) for question in questions]\n",
    "    # remove the question number from each question \n",
    "    questions = [re.sub(r'^\\d+\\.\\s', '', question) for question in questions]\n",
    "    return questions"
   ]
  },
  {
   "cell_type": "code",
   "execution_count": 3,
   "metadata": {},
   "outputs": [],
   "source": [
    "def extract_questions2(pageNos):\n",
    "    questions = []\n",
    "    lines = []\n",
    "    for pageNo in pageNos:\n",
    "        with open(f'data/Book3-latex/page_{pageNo}.tex') as f:\n",
    "            lines += f.readlines()\n",
    "    \n",
    "    for i in range(len(lines)):\n",
    "        if lines[i] == 'Exercises\\n':\n",
    "            j = i + 1\n",
    "            question = \"\"\n",
    "            while j < len(lines) and not re.match(r'\\#\\#.+', lines[j]):\n",
    "                if re.match(r'^\\d+\\.\\s.+', lines[j]):\n",
    "                    questions.append(question)\n",
    "                    question = \"\"\n",
    "                question += lines[j]\n",
    "                j += 1\n",
    "            questions.append(question)\n",
    "            break\n",
    "    questions = list(filter(None, questions))\n",
    "    # remove the question number from each question\n",
    "    questions = [re.sub(r'^\\d+\\.\\s', '', question) for question in questions]\n",
    "    return questions"
   ]
  },
  {
   "cell_type": "code",
   "execution_count": 18,
   "metadata": {},
   "outputs": [],
   "source": [
    "def extract_n_concat(topic, start, end, df):\n",
    "    questions = extract_questions(list(range(start, end)))\n",
    "    # questions = extract_questions2(list(range(start, end)))\n",
    "    df = pd.concat([df, pd.DataFrame({'Topic': [topic]*len(questions), 'Question': questions})])\n",
    "    return df"
   ]
  },
  {
   "cell_type": "code",
   "execution_count": 19,
   "metadata": {},
   "outputs": [],
   "source": [
    "book3 = pd.DataFrame(columns=['Topic', 'Question'])\n",
    "\n",
    "book3 = extract_n_concat('Linear Equations', 11, 37, book3)\n",
    "book3 = extract_n_concat('Vector Spaces', 37, 76, book3)\n",
    "book3 = extract_n_concat('Linear Transformations', 76, 126, book3)\n",
    "book3 = extract_n_concat('Polynomials', 126, 149, book3)\n",
    "book3 = extract_n_concat('Determinants', 149, 190, book3)\n",
    "book3 = extract_n_concat('Elementary Canonical Forms', 190, 236, book3)\n",
    "book3 = extract_n_concat('The Rational and Jordan Forms', 236, 279, book3)\n",
    "book3 = extract_n_concat('Inner Product Spaces', 279, 328, book3)\n",
    "book3 = extract_n_concat('Operators on Inner Product Spaces', 328, 368, book3)\n",
    "book3 = extract_n_concat('Bilinear Forms', 368, 395, book3)"
   ]
  },
  {
   "cell_type": "code",
   "execution_count": 20,
   "metadata": {},
   "outputs": [
    {
     "data": {
      "text/html": [
       "<div>\n",
       "<style scoped>\n",
       "    .dataframe tbody tr th:only-of-type {\n",
       "        vertical-align: middle;\n",
       "    }\n",
       "\n",
       "    .dataframe tbody tr th {\n",
       "        vertical-align: top;\n",
       "    }\n",
       "\n",
       "    .dataframe thead th {\n",
       "        text-align: right;\n",
       "    }\n",
       "</style>\n",
       "<table border=\"1\" class=\"dataframe\">\n",
       "  <thead>\n",
       "    <tr style=\"text-align: right;\">\n",
       "      <th></th>\n",
       "      <th>Topic</th>\n",
       "      <th>Question</th>\n",
       "    </tr>\n",
       "  </thead>\n",
       "  <tbody>\n",
       "    <tr>\n",
       "      <th>0</th>\n",
       "      <td>Linear Equations</td>\n",
       "      <td>Find all solutions to the following system of ...</td>\n",
       "    </tr>\n",
       "    <tr>\n",
       "      <th>1</th>\n",
       "      <td>Linear Equations</td>\n",
       "      <td>Find a row-reduced echelon matrix which is row...</td>\n",
       "    </tr>\n",
       "    <tr>\n",
       "      <th>2</th>\n",
       "      <td>Linear Equations</td>\n",
       "      <td>Let \\[A=\\begin{bmatrix}1&amp;2&amp;1&amp;0\\\\ -1&amp;0&amp;3&amp;5\\\\ 1&amp;...</td>\n",
       "    </tr>\n",
       "    <tr>\n",
       "      <th>3</th>\n",
       "      <td>Linear Equations</td>\n",
       "      <td>Do Exercise 1, but with \\[A=\\begin{bmatrix}2&amp;\\...</td>\n",
       "    </tr>\n",
       "    <tr>\n",
       "      <th>4</th>\n",
       "      <td>Linear Equations</td>\n",
       "      <td>For each of the two matrices \\[\\begin{bmatrix}...</td>\n",
       "    </tr>\n",
       "    <tr>\n",
       "      <th>...</th>\n",
       "      <td>...</td>\n",
       "      <td>...</td>\n",
       "    </tr>\n",
       "    <tr>\n",
       "      <th>19</th>\n",
       "      <td>Bilinear Forms</td>\n",
       "      <td>**6.** Find a matrix in \\(O(3,C)\\) whose first...</td>\n",
       "    </tr>\n",
       "    <tr>\n",
       "      <th>20</th>\n",
       "      <td>Bilinear Forms</td>\n",
       "      <td>**7.** Let \\(V\\) be the space of all \\(n\\times...</td>\n",
       "    </tr>\n",
       "    <tr>\n",
       "      <th>21</th>\n",
       "      <td>Bilinear Forms</td>\n",
       "      <td>**8.** Let \\(X\\) be an \\(n\\times 1\\) matrix ov...</td>\n",
       "    </tr>\n",
       "    <tr>\n",
       "      <th>22</th>\n",
       "      <td>Bilinear Forms</td>\n",
       "      <td>**9.** Let \\(V\\) be the space of all \\(n\\times...</td>\n",
       "    </tr>\n",
       "    <tr>\n",
       "      <th>23</th>\n",
       "      <td>Bilinear Forms</td>\n",
       "      <td>**10.** Let \\(S\\) be any set of \\(n\\times n\\) ...</td>\n",
       "    </tr>\n",
       "  </tbody>\n",
       "</table>\n",
       "<p>127 rows × 2 columns</p>\n",
       "</div>"
      ],
      "text/plain": [
       "               Topic                                           Question\n",
       "0   Linear Equations  Find all solutions to the following system of ...\n",
       "1   Linear Equations  Find a row-reduced echelon matrix which is row...\n",
       "2   Linear Equations  Let \\[A=\\begin{bmatrix}1&2&1&0\\\\ -1&0&3&5\\\\ 1&...\n",
       "3   Linear Equations  Do Exercise 1, but with \\[A=\\begin{bmatrix}2&\\...\n",
       "4   Linear Equations  For each of the two matrices \\[\\begin{bmatrix}...\n",
       "..               ...                                                ...\n",
       "19    Bilinear Forms  **6.** Find a matrix in \\(O(3,C)\\) whose first...\n",
       "20    Bilinear Forms  **7.** Let \\(V\\) be the space of all \\(n\\times...\n",
       "21    Bilinear Forms  **8.** Let \\(X\\) be an \\(n\\times 1\\) matrix ov...\n",
       "22    Bilinear Forms  **9.** Let \\(V\\) be the space of all \\(n\\times...\n",
       "23    Bilinear Forms  **10.** Let \\(S\\) be any set of \\(n\\times n\\) ...\n",
       "\n",
       "[127 rows x 2 columns]"
      ]
     },
     "execution_count": 20,
     "metadata": {},
     "output_type": "execute_result"
    }
   ],
   "source": [
    "book3"
   ]
  },
  {
   "cell_type": "code",
   "execution_count": 21,
   "metadata": {},
   "outputs": [
    {
     "name": "stdout",
     "output_type": "stream",
     "text": [
      "<class 'pandas.core.frame.DataFrame'>\n",
      "Int64Index: 127 entries, 0 to 23\n",
      "Data columns (total 2 columns):\n",
      " #   Column    Non-Null Count  Dtype \n",
      "---  ------    --------------  ----- \n",
      " 0   Topic     127 non-null    object\n",
      " 1   Question  127 non-null    object\n",
      "dtypes: object(2)\n",
      "memory usage: 3.0+ KB\n"
     ]
    }
   ],
   "source": [
    "book3.info()"
   ]
  },
  {
   "cell_type": "code",
   "execution_count": 22,
   "metadata": {},
   "outputs": [],
   "source": [
    "book3.to_csv('data/book3.csv', index=False)"
   ]
  },
  {
   "cell_type": "code",
   "execution_count": 28,
   "metadata": {},
   "outputs": [
    {
     "data": {
      "text/html": [
       "<div>\n",
       "<style scoped>\n",
       "    .dataframe tbody tr th:only-of-type {\n",
       "        vertical-align: middle;\n",
       "    }\n",
       "\n",
       "    .dataframe tbody tr th {\n",
       "        vertical-align: top;\n",
       "    }\n",
       "\n",
       "    .dataframe thead th {\n",
       "        text-align: right;\n",
       "    }\n",
       "</style>\n",
       "<table border=\"1\" class=\"dataframe\">\n",
       "  <thead>\n",
       "    <tr style=\"text-align: right;\">\n",
       "      <th></th>\n",
       "      <th>Topic</th>\n",
       "      <th>Question</th>\n",
       "    </tr>\n",
       "  </thead>\n",
       "  <tbody>\n",
       "    <tr>\n",
       "      <th>0</th>\n",
       "      <td>Linear Equations</td>\n",
       "      <td>Find all solutions to the following system of ...</td>\n",
       "    </tr>\n",
       "    <tr>\n",
       "      <th>1</th>\n",
       "      <td>Linear Equations</td>\n",
       "      <td>Find a row-reduced echelon matrix which is row...</td>\n",
       "    </tr>\n",
       "    <tr>\n",
       "      <th>2</th>\n",
       "      <td>Linear Equations</td>\n",
       "      <td>Let \\[A=\\begin{bmatrix}1&amp;2&amp;1&amp;0\\\\ -1&amp;0&amp;3&amp;5\\\\ 1&amp;...</td>\n",
       "    </tr>\n",
       "    <tr>\n",
       "      <th>3</th>\n",
       "      <td>Linear Equations</td>\n",
       "      <td>Do Exercise 1, but with \\[A=\\begin{bmatrix}2&amp;\\...</td>\n",
       "    </tr>\n",
       "    <tr>\n",
       "      <th>4</th>\n",
       "      <td>Linear Equations</td>\n",
       "      <td>For each of the two matrices \\[\\begin{bmatrix}...</td>\n",
       "    </tr>\n",
       "    <tr>\n",
       "      <th>...</th>\n",
       "      <td>...</td>\n",
       "      <td>...</td>\n",
       "    </tr>\n",
       "    <tr>\n",
       "      <th>114</th>\n",
       "      <td>Bilinear Forms</td>\n",
       "      <td>Let \\(X\\) be an \\(n\\times 1\\) matrix over \\(C\\...</td>\n",
       "    </tr>\n",
       "    <tr>\n",
       "      <th>115</th>\n",
       "      <td>Bilinear Forms</td>\n",
       "      <td>Let \\(V\\) be the space of all \\(n\\times 1\\) ma...</td>\n",
       "    </tr>\n",
       "    <tr>\n",
       "      <th>116</th>\n",
       "      <td>Bilinear Forms</td>\n",
       "      <td>Let \\(S\\) be any set of \\(n\\times n\\) matrices...</td>\n",
       "    </tr>\n",
       "    <tr>\n",
       "      <th>117</th>\n",
       "      <td>Bilinear Forms</td>\n",
       "      <td>Let \\(F\\) be a subfield of \\(C\\), \\(V\\) a fini...</td>\n",
       "    </tr>\n",
       "    <tr>\n",
       "      <th>118</th>\n",
       "      <td>Bilinear Forms</td>\n",
       "      <td>Let \\(F\\) be a subfield of \\(C\\), \\(V\\) the sp...</td>\n",
       "    </tr>\n",
       "  </tbody>\n",
       "</table>\n",
       "<p>119 rows × 2 columns</p>\n",
       "</div>"
      ],
      "text/plain": [
       "                Topic                                           Question\n",
       "0    Linear Equations  Find all solutions to the following system of ...\n",
       "1    Linear Equations  Find a row-reduced echelon matrix which is row...\n",
       "2    Linear Equations  Let \\[A=\\begin{bmatrix}1&2&1&0\\\\ -1&0&3&5\\\\ 1&...\n",
       "3    Linear Equations  Do Exercise 1, but with \\[A=\\begin{bmatrix}2&\\...\n",
       "4    Linear Equations  For each of the two matrices \\[\\begin{bmatrix}...\n",
       "..                ...                                                ...\n",
       "114    Bilinear Forms  Let \\(X\\) be an \\(n\\times 1\\) matrix over \\(C\\...\n",
       "115    Bilinear Forms  Let \\(V\\) be the space of all \\(n\\times 1\\) ma...\n",
       "116    Bilinear Forms  Let \\(S\\) be any set of \\(n\\times n\\) matrices...\n",
       "117    Bilinear Forms  Let \\(F\\) be a subfield of \\(C\\), \\(V\\) a fini...\n",
       "118    Bilinear Forms  Let \\(F\\) be a subfield of \\(C\\), \\(V\\) the sp...\n",
       "\n",
       "[119 rows x 2 columns]"
      ]
     },
     "execution_count": 28,
     "metadata": {},
     "output_type": "execute_result"
    }
   ],
   "source": [
    "extracted = pd.read_csv('data/book3_final.csv')\n",
    "extracted"
   ]
  },
  {
   "cell_type": "code",
   "execution_count": 29,
   "metadata": {},
   "outputs": [
    {
     "name": "stdout",
     "output_type": "stream",
     "text": [
      "<class 'pandas.core.frame.DataFrame'>\n",
      "RangeIndex: 119 entries, 0 to 118\n",
      "Data columns (total 2 columns):\n",
      " #   Column    Non-Null Count  Dtype \n",
      "---  ------    --------------  ----- \n",
      " 0   Topic     119 non-null    object\n",
      " 1   Question  119 non-null    object\n",
      "dtypes: object(2)\n",
      "memory usage: 2.0+ KB\n"
     ]
    }
   ],
   "source": [
    "extracted.info()"
   ]
  },
  {
   "cell_type": "code",
   "execution_count": 30,
   "metadata": {},
   "outputs": [
    {
     "name": "stdout",
     "output_type": "stream",
     "text": [
      "<class 'pandas.core.frame.DataFrame'>\n",
      "RangeIndex: 119 entries, 0 to 118\n",
      "Data columns (total 2 columns):\n",
      " #   Column    Non-Null Count  Dtype \n",
      "---  ------    --------------  ----- \n",
      " 0   Topic     119 non-null    object\n",
      " 1   Question  119 non-null    object\n",
      "dtypes: object(2)\n",
      "memory usage: 2.0+ KB\n"
     ]
    }
   ],
   "source": [
    "#convert object type columns to string type\n",
    "extracted['Topic'] = extracted['Topic'].astype(str)\n",
    "extracted['Question'] = extracted['Question'].astype(str)\n",
    "\n",
    "extracted.info()"
   ]
  },
  {
   "cell_type": "code",
   "execution_count": 36,
   "metadata": {},
   "outputs": [
    {
     "data": {
      "text/plain": [
       "0"
      ]
     },
     "execution_count": 36,
     "metadata": {},
     "output_type": "execute_result"
    }
   ],
   "source": [
    "# check if any element in column 'Topic' is not a string\n",
    "extracted['Question'].apply(lambda x: type(x) != str).sum()"
   ]
  },
  {
   "cell_type": "code",
   "execution_count": 39,
   "metadata": {},
   "outputs": [
    {
     "name": "stdout",
     "output_type": "stream",
     "text": [
      "<class 'pandas.core.frame.DataFrame'>\n",
      "RangeIndex: 119 entries, 0 to 118\n",
      "Data columns (total 2 columns):\n",
      " #   Column    Non-Null Count  Dtype \n",
      "---  ------    --------------  ----- \n",
      " 0   Topic     119 non-null    object\n",
      " 1   Question  119 non-null    object\n",
      "dtypes: object(2)\n",
      "memory usage: 2.0+ KB\n"
     ]
    }
   ],
   "source": [
    "# change dtype of 'Question' and 'Topic' columns to string\n",
    "extracted['Question'] = extracted['Question'].apply(lambda x: str(x))\n",
    "extracted['Topic'] = extracted['Topic'].apply(lambda x: str(x))\n",
    "\n",
    "extracted.info()"
   ]
  },
  {
   "cell_type": "code",
   "execution_count": 38,
   "metadata": {},
   "outputs": [
    {
     "data": {
      "text/html": [
       "<div>\n",
       "<style scoped>\n",
       "    .dataframe tbody tr th:only-of-type {\n",
       "        vertical-align: middle;\n",
       "    }\n",
       "\n",
       "    .dataframe tbody tr th {\n",
       "        vertical-align: top;\n",
       "    }\n",
       "\n",
       "    .dataframe thead th {\n",
       "        text-align: right;\n",
       "    }\n",
       "</style>\n",
       "<table border=\"1\" class=\"dataframe\">\n",
       "  <thead>\n",
       "    <tr style=\"text-align: right;\">\n",
       "      <th></th>\n",
       "      <th>Topic</th>\n",
       "      <th>Question</th>\n",
       "    </tr>\n",
       "  </thead>\n",
       "  <tbody>\n",
       "    <tr>\n",
       "      <th>0</th>\n",
       "      <td>Linear Equations</td>\n",
       "      <td>Find all solutions to the following system of ...</td>\n",
       "    </tr>\n",
       "    <tr>\n",
       "      <th>1</th>\n",
       "      <td>Linear Equations</td>\n",
       "      <td>Find a row-reduced echelon matrix which is row...</td>\n",
       "    </tr>\n",
       "    <tr>\n",
       "      <th>2</th>\n",
       "      <td>Linear Equations</td>\n",
       "      <td>Let \\[A=\\begin{bmatrix}1&amp;2&amp;1&amp;0\\\\ -1&amp;0&amp;3&amp;5\\\\ 1&amp;...</td>\n",
       "    </tr>\n",
       "    <tr>\n",
       "      <th>3</th>\n",
       "      <td>Linear Equations</td>\n",
       "      <td>Do Exercise 1, but with \\[A=\\begin{bmatrix}2&amp;\\...</td>\n",
       "    </tr>\n",
       "    <tr>\n",
       "      <th>4</th>\n",
       "      <td>Linear Equations</td>\n",
       "      <td>For each of the two matrices \\[\\begin{bmatrix}...</td>\n",
       "    </tr>\n",
       "    <tr>\n",
       "      <th>...</th>\n",
       "      <td>...</td>\n",
       "      <td>...</td>\n",
       "    </tr>\n",
       "    <tr>\n",
       "      <th>114</th>\n",
       "      <td>Bilinear Forms</td>\n",
       "      <td>Let \\(X\\) be an \\(n\\times 1\\) matrix over \\(C\\...</td>\n",
       "    </tr>\n",
       "    <tr>\n",
       "      <th>115</th>\n",
       "      <td>Bilinear Forms</td>\n",
       "      <td>Let \\(V\\) be the space of all \\(n\\times 1\\) ma...</td>\n",
       "    </tr>\n",
       "    <tr>\n",
       "      <th>116</th>\n",
       "      <td>Bilinear Forms</td>\n",
       "      <td>Let \\(S\\) be any set of \\(n\\times n\\) matrices...</td>\n",
       "    </tr>\n",
       "    <tr>\n",
       "      <th>117</th>\n",
       "      <td>Bilinear Forms</td>\n",
       "      <td>Let \\(F\\) be a subfield of \\(C\\), \\(V\\) a fini...</td>\n",
       "    </tr>\n",
       "    <tr>\n",
       "      <th>118</th>\n",
       "      <td>Bilinear Forms</td>\n",
       "      <td>Let \\(F\\) be a subfield of \\(C\\), \\(V\\) the sp...</td>\n",
       "    </tr>\n",
       "  </tbody>\n",
       "</table>\n",
       "<p>119 rows × 2 columns</p>\n",
       "</div>"
      ],
      "text/plain": [
       "                Topic                                           Question\n",
       "0    Linear Equations  Find all solutions to the following system of ...\n",
       "1    Linear Equations  Find a row-reduced echelon matrix which is row...\n",
       "2    Linear Equations  Let \\[A=\\begin{bmatrix}1&2&1&0\\\\ -1&0&3&5\\\\ 1&...\n",
       "3    Linear Equations  Do Exercise 1, but with \\[A=\\begin{bmatrix}2&\\...\n",
       "4    Linear Equations  For each of the two matrices \\[\\begin{bmatrix}...\n",
       "..                ...                                                ...\n",
       "114    Bilinear Forms  Let \\(X\\) be an \\(n\\times 1\\) matrix over \\(C\\...\n",
       "115    Bilinear Forms  Let \\(V\\) be the space of all \\(n\\times 1\\) ma...\n",
       "116    Bilinear Forms  Let \\(S\\) be any set of \\(n\\times n\\) matrices...\n",
       "117    Bilinear Forms  Let \\(F\\) be a subfield of \\(C\\), \\(V\\) a fini...\n",
       "118    Bilinear Forms  Let \\(F\\) be a subfield of \\(C\\), \\(V\\) the sp...\n",
       "\n",
       "[119 rows x 2 columns]"
      ]
     },
     "execution_count": 38,
     "metadata": {},
     "output_type": "execute_result"
    }
   ],
   "source": [
    "extracted"
   ]
  },
  {
   "cell_type": "code",
   "execution_count": 40,
   "metadata": {},
   "outputs": [],
   "source": [
    "extracted.to_csv('data/book3_final2.csv', index=False)"
   ]
  },
  {
   "cell_type": "markdown",
   "metadata": {},
   "source": [
    "---"
   ]
  }
 ],
 "metadata": {
  "kernelspec": {
   "display_name": "base",
   "language": "python",
   "name": "python3"
  },
  "language_info": {
   "codemirror_mode": {
    "name": "ipython",
    "version": 3
   },
   "file_extension": ".py",
   "mimetype": "text/x-python",
   "name": "python",
   "nbconvert_exporter": "python",
   "pygments_lexer": "ipython3",
   "version": "3.10.9"
  }
 },
 "nbformat": 4,
 "nbformat_minor": 2
}
